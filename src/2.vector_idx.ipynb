{
 "cells": [
  {
   "cell_type": "code",
   "execution_count": 0,
   "metadata": {
    "application/vnd.databricks.v1+cell": {
     "cellMetadata": {
      "byteLimit": 2048000,
      "rowLimit": 10000
     },
     "inputWidgets": {},
     "nuid": "9a21dc2c-f2dc-4ce9-8f80-6a6ab0982659",
     "showTitle": false,
     "tableResultSettingsMap": {},
     "title": ""
    }
   },
   "outputs": [],
   "source": [
    "%pip install databricks-vectorsearch==0.56\n",
    "dbutils.library.restartPython()"
   ]
  },
  {
   "cell_type": "code",
   "execution_count": 0,
   "metadata": {
    "application/vnd.databricks.v1+cell": {
     "cellMetadata": {
      "byteLimit": 2048000,
      "rowLimit": 10000
     },
     "inputWidgets": {},
     "nuid": "2464338b-33d7-4f96-83f9-3c1c040e5324",
     "showTitle": true,
     "tableResultSettingsMap": {},
     "title": "Init vector search client"
    }
   },
   "outputs": [],
   "source": [
    "from databricks.vector_search.client import VectorSearchClient\n",
    "from config import GlobalConfig\n",
    "\n",
    "client = VectorSearchClient()\n",
    "cfg = GlobalConfig()"
   ]
  },
  {
   "cell_type": "code",
   "execution_count": 0,
   "metadata": {
    "application/vnd.databricks.v1+cell": {
     "cellMetadata": {
      "byteLimit": 2048000,
      "rowLimit": 10000
     },
     "inputWidgets": {},
     "nuid": "c48d3c96-a274-48cc-8cbd-f92dd2f8e9e0",
     "showTitle": true,
     "tableResultSettingsMap": {},
     "title": "Create vector search endpoint"
    }
   },
   "outputs": [],
   "source": [
    "# Creates the endpoint, note this a compute instance\n",
    "client.create_endpoint(\n",
    "    name=cfg.vector_search_endpoint_name,\n",
    "    endpoint_type=\"STANDARD\" \n",
    ")"
   ]
  },
  {
   "cell_type": "code",
   "execution_count": 0,
   "metadata": {
    "application/vnd.databricks.v1+cell": {
     "cellMetadata": {
      "byteLimit": 2048000,
      "rowLimit": 10000
     },
     "inputWidgets": {},
     "nuid": "4689e69f-c35d-41bb-90d5-76da493aebc7",
     "showTitle": true,
     "tableResultSettingsMap": {},
     "title": "Create vector search index"
    }
   },
   "outputs": [],
   "source": [
    "# Creates the vector search index, this will end up in unity catalog\n",
    "index = client.create_delta_sync_index(\n",
    "  endpoint_name=cfg.vector_search_endpoint_name,\n",
    "  source_table_name=f\"{cfg.catalog}.{cfg.schema}.{cfg.text_table_name}\",\n",
    "  index_name=f\"{cfg.catalog}.{cfg.schema}.{cfg.index_name}\",\n",
    "  pipeline_type=cfg.pipeline_type,\n",
    "  primary_key=cfg.primary_key,\n",
    "  embedding_source_column=cfg.text_column,\n",
    "  embedding_model_endpoint_name=cfg.embedding_model_endpoint_name\n",
    ")"
   ]
  }
 ],
 "metadata": {
  "application/vnd.databricks.v1+notebook": {
   "computePreferences": null,
   "dashboards": [],
   "environmentMetadata": {
    "base_environment": "",
    "environment_version": "2"
   },
   "inputWidgetPreferences": null,
   "language": "python",
   "notebookMetadata": {
    "pythonIndentUnit": 4
   },
   "notebookName": "2.vector_idx",
   "widgets": {}
  },
  "language_info": {
   "name": "python"
  }
 },
 "nbformat": 4,
 "nbformat_minor": 0
}
