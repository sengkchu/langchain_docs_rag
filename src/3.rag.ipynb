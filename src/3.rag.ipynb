{
 "cells": [
  {
   "cell_type": "code",
   "execution_count": 0,
   "metadata": {
    "application/vnd.databricks.v1+cell": {
     "cellMetadata": {
      "byteLimit": 2048000,
      "rowLimit": 10000
     },
     "inputWidgets": {},
     "nuid": "38e28362-49bd-4f24-83c7-e0aec1bd63c3",
     "showTitle": true,
     "tableResultSettingsMap": {},
     "title": "Install Dependencies"
    }
   },
   "outputs": [],
   "source": [
    "%pip install mlflow==3.1.1 langchain==0.1.5 databricks-vectorsearch==0.56 databricks-sdk==0.55.0 mlflow[databricks]\n",
    "dbutils.library.restartPython()"
   ]
  },
  {
   "cell_type": "code",
   "execution_count": 0,
   "metadata": {
    "application/vnd.databricks.v1+cell": {
     "cellMetadata": {
      "byteLimit": 2048000,
      "rowLimit": 10000
     },
     "inputWidgets": {},
     "nuid": "43f3f255-81a1-428e-a55d-1214dacc4dcd",
     "showTitle": true,
     "tableResultSettingsMap": {},
     "title": "Imports and setup"
    }
   },
   "outputs": [],
   "source": [
    "import os\n",
    "import mlflow\n",
    "import langchain\n",
    "from mlflow.models import infer_signature\n",
    "from mlflow.deployments import get_deploy_client\n",
    "from databricks.vector_search.client import VectorSearchClient\n",
    "from langchain_community.vectorstores import DatabricksVectorSearch\n",
    "from langchain_community.embeddings import DatabricksEmbeddings\n",
    "from langchain.chains import RetrievalQA\n",
    "from langchain.prompts import PromptTemplate\n",
    "from langchain_community.chat_models import ChatDatabricks\n",
    "from config import GlobalConfig\n",
    "\n",
    "# Setup autolog\n",
    "os.environ[\"PYSPARK_PIN_THREAD\"] = \"false\"\n",
    "mlflow.autolog()\n",
    "\n",
    "# Set up notebook variables\n",
    "cfg = GlobalConfig()\n",
    "host = \"https://\" + spark.conf.get(\"spark.databricks.workspaceUrl\")\n",
    "databricks_token = dbutils.secrets.get(scope=cfg.project_scope_name, key=cfg.databricks_key_name)"
   ]
  },
  {
   "cell_type": "code",
   "execution_count": 0,
   "metadata": {
    "application/vnd.databricks.v1+cell": {
     "cellMetadata": {
      "byteLimit": 2048000,
      "rowLimit": 10000
     },
     "inputWidgets": {},
     "nuid": "f14965e2-7cce-4244-97d6-dd75fb315268",
     "showTitle": true,
     "tableResultSettingsMap": {},
     "title": "Build Retriever"
    }
   },
   "outputs": [],
   "source": [
    "# Setup params for retriever\n",
    "embedding_model_endpoint_name = cfg.embedding_model_endpoint_name\n",
    "vector_search_endpoint_name = cfg.vector_search_endpoint_name\n",
    "full_index_name = f\"{cfg.catalog}.{cfg.schema}.{cfg.index_name}\"\n",
    "text_column = cfg.text_column\n",
    "\n",
    "# Init embedding model\n",
    "embedding_model = DatabricksEmbeddings(endpoint=embedding_model_endpoint_name)\n",
    "\n",
    "# Create retriever\n",
    "def get_retriever(persist_dir: str=None):\n",
    "\n",
    "    #Get the vector search index\n",
    "    vsc = VectorSearchClient(workspace_url=host, personal_access_token=databricks_token)\n",
    "\n",
    "    vs_index = vsc.get_index(\n",
    "        endpoint_name=vector_search_endpoint_name,\n",
    "        index_name=full_index_name\n",
    "    )\n",
    "\n",
    "    # Create the retriever\n",
    "    vectorstore = DatabricksVectorSearch(\n",
    "        vs_index, text_column=text_column, embedding=embedding_model\n",
    "    )\n",
    "    return vectorstore.as_retriever()"
   ]
  },
  {
   "cell_type": "code",
   "execution_count": 0,
   "metadata": {
    "application/vnd.databricks.v1+cell": {
     "cellMetadata": {
      "byteLimit": 2048000,
      "rowLimit": 10000
     },
     "inputWidgets": {},
     "nuid": "0d5f7ce3-8a38-4b20-be39-e5688af79f30",
     "showTitle": true,
     "tableResultSettingsMap": {},
     "title": "Create the RAG Langchain"
    }
   },
   "outputs": [],
   "source": [
    "chat_model = ChatDatabricks(endpoint=cfg.chat_model, max_tokens=cfg.max_tokens)\n",
    "\n",
    "TEMPLATE = \"\"\"You are an assistant for programmers using langchain and langgraph. You are answering questions about langgraph or langchain that you have data on. If the question is not related to one of these topics, kindly decline to answer. If you don't know the answer, just say that you don't know, don't try to make up an answer. Keep the answer as concise as possible. \n",
    "\n",
    "Use the following pieces of context to answer the question at the end:\n",
    "\n",
    "{context}\n",
    "\n",
    "Question: {question}\n",
    "Answer:\n",
    "\"\"\"\n",
    "prompt = PromptTemplate(template=TEMPLATE, input_variables=[\"context\", \"question\"])\n",
    "\n",
    "chain = RetrievalQA.from_chain_type(\n",
    "    llm=chat_model,\n",
    "    retriever=get_retriever(),\n",
    "    chain_type_kwargs={\"prompt\": prompt}\n",
    ")"
   ]
  },
  {
   "cell_type": "code",
   "execution_count": 0,
   "metadata": {
    "application/vnd.databricks.v1+cell": {
     "cellMetadata": {
      "byteLimit": 2048000,
      "rowLimit": 10000
     },
     "inputWidgets": {},
     "nuid": "315fdc6b-4418-4ece-8d45-a7ef105d5887",
     "showTitle": true,
     "tableResultSettingsMap": {},
     "title": "Example Q/A #1"
    }
   },
   "outputs": [],
   "source": [
    "question_1 = {\"query\": \"How can I create chunks for rag in langchain\"}\n",
    "answer_1 = chain.run(question_1)\n",
    "print(answer_1)"
   ]
  },
  {
   "cell_type": "code",
   "execution_count": 0,
   "metadata": {
    "application/vnd.databricks.v1+cell": {
     "cellMetadata": {
      "byteLimit": 2048000,
      "rowLimit": 10000
     },
     "inputWidgets": {},
     "nuid": "a5e5ce23-cbed-4945-8cbf-f924d005e5ce",
     "showTitle": true,
     "tableResultSettingsMap": {},
     "title": "Example Q/A #2"
    }
   },
   "outputs": [],
   "source": [
    "question_2 = {\"query\": \"My gas burner won't light up?\"}\n",
    "answer_2 = chain.run(question_2)\n",
    "print(answer_2)"
   ]
  },
  {
   "cell_type": "code",
   "execution_count": 0,
   "metadata": {
    "application/vnd.databricks.v1+cell": {
     "cellMetadata": {
      "byteLimit": 2048000,
      "rowLimit": 10000
     },
     "inputWidgets": {},
     "nuid": "63b89a9d-32e0-482a-a6a7-7fb13e02c1ec",
     "showTitle": true,
     "tableResultSettingsMap": {},
     "title": "Register our Chain as a model to Unity Catalog"
    }
   },
   "outputs": [],
   "source": [
    "mlflow.set_registry_uri(\"databricks-uc\")\n",
    "model_name = f\"{cfg.catalog}.{cfg.schema}.{cfg.rag_model_name}\"\n",
    "\n",
    "with mlflow.start_run(run_name=f\"{cfg.rag_model_name}_run\") as run:\n",
    "    signature = infer_signature(question_1, answer_1)\n",
    "    model_info = mlflow.langchain.log_model(\n",
    "        chain,\n",
    "        loader_fn=get_retriever,\n",
    "        registered_model_name=model_name,\n",
    "        input_example=question_1,\n",
    "        signature=signature,\n",
    "        pip_requirements=[\n",
    "            f\"mlflow=={mlflow.__version__}\",\n",
    "            f\"langchain=={langchain.__version__}\",\n",
    "            \"databricks-vectorsearch==0.56\",\n",
    "            \"mlflow[databricks]\"\n",
    "        ],\n",
    "    )"
   ]
  },
  {
   "cell_type": "code",
   "execution_count": 0,
   "metadata": {
    "application/vnd.databricks.v1+cell": {
     "cellMetadata": {
      "byteLimit": 2048000,
      "rowLimit": 10000
     },
     "inputWidgets": {},
     "nuid": "59e21d42-2f7f-496e-923f-50d5bf1a193c",
     "showTitle": true,
     "tableResultSettingsMap": {},
     "title": "Create endpoint"
    }
   },
   "outputs": [],
   "source": [
    "client = get_deploy_client(\"databricks\")\n",
    "endpoint = client.create_endpoint(\n",
    "    name=f\"{cfg.rag_model_name}_endpoint\",\n",
    "    config={\n",
    "        \"served_entities\": [\n",
    "            {\n",
    "                \"name\": f\"lang-rag-endpoint\",\n",
    "                \"entity_name\": model_name,\n",
    "                \"entity_version\": \"3\",\n",
    "                \"workload_size\": \"Small\",\n",
    "                \"scale_to_zero_enabled\": True\n",
    "            }\n",
    "        ]\n",
    "    }\n",
    ")\n"
   ]
  }
 ],
 "metadata": {
  "application/vnd.databricks.v1+notebook": {
   "computePreferences": null,
   "dashboards": [],
   "environmentMetadata": null,
   "inputWidgetPreferences": null,
   "language": "python",
   "notebookMetadata": {
    "mostRecentlyExecutedCommandWithImplicitDF": {
     "commandId": 8113159943516256,
     "dataframes": [
      "_sqldf"
     ]
    },
    "pythonIndentUnit": 4
   },
   "notebookName": "3.rag",
   "widgets": {}
  },
  "language_info": {
   "name": "python"
  }
 },
 "nbformat": 4,
 "nbformat_minor": 0
}
