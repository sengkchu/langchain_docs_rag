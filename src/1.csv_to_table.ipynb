{
 "cells": [
  {
   "cell_type": "code",
   "execution_count": 0,
   "metadata": {
    "application/vnd.databricks.v1+cell": {
     "cellMetadata": {
      "byteLimit": 2048000,
      "rowLimit": 10000
     },
     "inputWidgets": {},
     "nuid": "09ad1814-3e64-41e8-9602-3dc9974fb3a1",
     "showTitle": true,
     "tableResultSettingsMap": {},
     "title": "Pip Installs"
    },
    "jupyter": {
     "outputs_hidden": true
    }
   },
   "outputs": [],
   "source": [
    "%pip install langchain==0.1.5\n",
    "dbutils.library.restartPython()"
   ]
  },
  {
   "cell_type": "code",
   "execution_count": 0,
   "metadata": {
    "application/vnd.databricks.v1+cell": {
     "cellMetadata": {
      "byteLimit": 2048000,
      "rowLimit": 10000
     },
     "inputWidgets": {},
     "nuid": "cddb9fac-5a9a-4551-9a7a-7bd3d63e9027",
     "showTitle": true,
     "tableResultSettingsMap": {},
     "title": "Imports"
    }
   },
   "outputs": [],
   "source": [
    "import pandas as pd\n",
    "from langchain.text_splitter import RecursiveCharacterTextSplitter\n",
    "from config import GlobalConfig\n",
    "\n",
    "cfg = GlobalConfig()"
   ]
  },
  {
   "cell_type": "code",
   "execution_count": 0,
   "metadata": {
    "application/vnd.databricks.v1+cell": {
     "cellMetadata": {
      "byteLimit": 2048000,
      "rowLimit": 10000
     },
     "inputWidgets": {},
     "nuid": "b409b437-fd97-487b-b176-a3b51c18812c",
     "showTitle": true,
     "tableResultSettingsMap": {},
     "title": "Extract and chunk text from CSV file"
    }
   },
   "outputs": [],
   "source": [
    "# Read in data\n",
    "data_path = f\"/Volumes/{cfg.catalog}/{cfg.schema}/{cfg.volume_name}/{cfg.source_file_name}\"\n",
    "df = spark.read.text(data_path)\n",
    "\n",
    "# Collect all the text into a single string\n",
    "text_column = \" \".join([row.value for row in df.collect()])\n",
    "\n",
    "# Chunk out text\n",
    "splitter = RecursiveCharacterTextSplitter(\n",
    "    separators=[\"\\n\\n\", \"\\n\", \" \", \"\"],\n",
    "    chunk_size=cfg.chunk_size,\n",
    "    chunk_overlap=cfg.chunk_overlap,\n",
    "    length_function=len,\n",
    ")\n",
    "chunks = splitter.split_text(text_column)"
   ]
  },
  {
   "cell_type": "code",
   "execution_count": 0,
   "metadata": {
    "application/vnd.databricks.v1+cell": {
     "cellMetadata": {
      "byteLimit": 2048000,
      "rowLimit": 10000
     },
     "inputWidgets": {},
     "nuid": "cb650d71-5112-48bb-bcfd-688b1433dcfd",
     "showTitle": true,
     "tableResultSettingsMap": {},
     "title": "Create dataframe and save to unity"
    }
   },
   "outputs": [],
   "source": [
    "chunked_pdf = pd.DataFrame({\n",
    "    cfg.primary_key: range(1, len(chunks)+1),\n",
    "    cfg.text_column: chunks\n",
    "})\n",
    "chunked_df = spark.createDataFrame(chunked_pdf)\n",
    "chunked_df.write.mode(\"overwrite\").saveAsTable(f\"{cfg.catalog}.{cfg.schema}.{cfg.text_table_name}\")"
   ]
  },
  {
   "cell_type": "code",
   "execution_count": 0,
   "metadata": {
    "application/vnd.databricks.v1+cell": {
     "cellMetadata": {
      "byteLimit": 2048000,
      "implicitDf": true,
      "rowLimit": 10000
     },
     "inputWidgets": {},
     "nuid": "bc4beb9f-d34d-4319-a622-ba717e126eaa",
     "showTitle": true,
     "tableResultSettingsMap": {},
     "title": "Enable change datafeed for vector search"
    }
   },
   "outputs": [],
   "source": [
    "query = f\"\"\"\n",
    "ALTER TABLE {cfg.catalog}.{cfg.schema}.{cfg.text_table_name}\n",
    "SET TBLPROPERTIES (delta.enableChangeDataFeed = true)\n",
    "\"\"\"\n",
    "\n",
    "spark.sql(query)"
   ]
  }
 ],
 "metadata": {
  "application/vnd.databricks.v1+notebook": {
   "computePreferences": null,
   "dashboards": [],
   "environmentMetadata": null,
   "inputWidgetPreferences": null,
   "language": "python",
   "notebookMetadata": {
    "mostRecentlyExecutedCommandWithImplicitDF": {
     "commandId": -1,
     "dataframes": [
      "_sqldf"
     ]
    },
    "pythonIndentUnit": 4
   },
   "notebookName": "1.csv_to_table",
   "widgets": {}
  },
  "language_info": {
   "name": "python"
  }
 },
 "nbformat": 4,
 "nbformat_minor": 0
}
