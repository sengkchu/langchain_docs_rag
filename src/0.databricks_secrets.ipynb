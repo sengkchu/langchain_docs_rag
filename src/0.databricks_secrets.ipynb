{
 "cells": [
  {
   "cell_type": "code",
   "execution_count": 0,
   "metadata": {
    "application/vnd.databricks.v1+cell": {
     "cellMetadata": {
      "byteLimit": 2048000,
      "rowLimit": 10000
     },
     "inputWidgets": {},
     "nuid": "df66b5aa-732c-4ea5-bb3e-74a269a6f915",
     "showTitle": true,
     "tableResultSettingsMap": {},
     "title": "Init workspace client"
    }
   },
   "outputs": [],
   "source": [
    "from databricks.sdk import WorkspaceClient\n",
    "from config import GlobalConfig\n",
    "\n",
    "w = WorkspaceClient()\n",
    "cfg = GlobalConfig()"
   ]
  },
  {
   "cell_type": "code",
   "execution_count": 0,
   "metadata": {
    "application/vnd.databricks.v1+cell": {
     "cellMetadata": {
      "byteLimit": 2048000,
      "rowLimit": 10000
     },
     "inputWidgets": {},
     "nuid": "dd530a98-1eb1-470a-8eb6-97c7b8dedb45",
     "showTitle": true,
     "tableResultSettingsMap": {},
     "title": "Create scope if it doesn't exist"
    }
   },
   "outputs": [],
   "source": [
    "scopes = w.secrets.list_scopes()\n",
    "\n",
    "if cfg.project_scope_name not in [s.name for s in scopes]:\n",
    "    print(f\"Scope '{cfg.project_scope_name}' doesn't exists, creating scope...\")\n",
    "    w.secrets.create_scope(scope=cfg.project_scope_name)\n",
    "else:\n",
    "    print(f\"Scope '{cfg.project_scope_name}' already exists\")"
   ]
  },
  {
   "cell_type": "code",
   "execution_count": 0,
   "metadata": {
    "application/vnd.databricks.v1+cell": {
     "cellMetadata": {
      "byteLimit": 2048000,
      "rowLimit": 10000
     },
     "inputWidgets": {},
     "nuid": "913595b5-f3ca-4a9a-8021-e23411cc8800",
     "showTitle": true,
     "tableResultSettingsMap": {},
     "title": "Add key"
    }
   },
   "outputs": [],
   "source": [
    "secrets = w.secrets.list_secrets(cfg.project_scope_name)\n",
    "\n",
    "if cfg.databricks_key_name not in [s.key for s in secrets]:\n",
    "    print(f\"Key '{cfg.databricks_key_name}' doesn't exists, creating key...\")\n",
    "    w.secrets.put_secret(scope=cfg.project_scope_name, key=cfg.databricks_key_name, string_value=cfg.secret)\n",
    "else:\n",
    "    print(f\"Key '{cfg.databricks_key_name}' already exists in scope '{cfg.project_scope_name}'\")"
   ]
  }
 ],
 "metadata": {
  "application/vnd.databricks.v1+notebook": {
   "computePreferences": null,
   "dashboards": [],
   "environmentMetadata": {
    "base_environment": "",
    "environment_version": "2"
   },
   "inputWidgetPreferences": null,
   "language": "python",
   "notebookMetadata": {
    "pythonIndentUnit": 4
   },
   "notebookName": "0.databricks_secrets",
   "widgets": {}
  },
  "language_info": {
   "name": "python"
  }
 },
 "nbformat": 4,
 "nbformat_minor": 0
}
